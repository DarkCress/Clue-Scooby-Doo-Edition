{
 "cells": [
  {
   "cell_type": "code",
   "execution_count": 1,
   "metadata": {},
   "outputs": [
    {
     "ename": "SyntaxError",
     "evalue": "EOL while scanning string literal (<ipython-input-1-5b7739701205>, line 11)",
     "output_type": "error",
     "traceback": [
      "\u001b[1;36m  File \u001b[1;32m\"<ipython-input-1-5b7739701205>\"\u001b[1;36m, line \u001b[1;32m11\u001b[0m\n\u001b[1;33m    scripts=[\"Clue Scooby Doo.py,\u001b[0m\n\u001b[1;37m                                  ^\u001b[0m\n\u001b[1;31mSyntaxError\u001b[0m\u001b[1;31m:\u001b[0m EOL while scanning string literal\n"
     ]
    }
   ],
   "source": [
    "from distutils.core import setup \n",
    "import py2exe \n",
    " \n",
    "setup(name=\"Clue - Scooby Doo\", \n",
    " version=\"1.0\", \n",
    " description=\"Juego de Clue\", \n",
    " author=\"José Adrian Alcala Calderon y Juan Carlos Huerta vasquez\", \n",
    " author_email=\"a18310007@ceti.mx, a18310149@ceti.mx\", \n",
    " url=\"Documents/CETI%20MATERIAS/Ingenieria/Sistemas%20Expertos/Clue%20Scooby%20Doo/\", \n",
    " license=\"\", \n",
    " scripts=[\"Clue Scooby Doo.py, \n",
    " console=[\"Clue Scooby Doo.py, \n",
    " options={\"py2exe\": {\"bundle_files\": 1}}, \n",
    " zipfile=None,\n",
    ")"
   ]
  },
  {
   "cell_type": "code",
   "execution_count": null,
   "metadata": {},
   "outputs": [],
   "source": []
  }
 ],
 "metadata": {
  "kernelspec": {
   "display_name": "Python 3",
   "language": "python",
   "name": "python3"
  },
  "language_info": {
   "codemirror_mode": {
    "name": "ipython",
    "version": 3
   },
   "file_extension": ".py",
   "mimetype": "text/x-python",
   "name": "python",
   "nbconvert_exporter": "python",
   "pygments_lexer": "ipython3",
   "version": "3.8.5"
  }
 },
 "nbformat": 4,
 "nbformat_minor": 4
}
